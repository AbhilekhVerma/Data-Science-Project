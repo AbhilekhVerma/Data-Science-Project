{
 "cells": [
  {
   "cell_type": "markdown",
   "id": "6e896e10",
   "metadata": {},
   "source": [
    "# IMPORTING LIBRARIES"
   ]
  },
  {
   "cell_type": "code",
   "execution_count": 42,
   "id": "e9a5da7a",
   "metadata": {},
   "outputs": [],
   "source": [
    "import pandas as pd\n",
    "import numpy as np\n",
    "import warnings\n",
    "warnings.filterwarnings('ignore')\n",
    "import seaborn as sns\n",
    "import matplotlib.pyplot as plt\n",
    "from sklearn.neighbors import KNeighborsRegressor\n",
    "from sklearn.ensemble import RandomForestRegressor\n",
    "from sklearn.linear_model import ElasticNet\n",
    "from sklearn.linear_model import Ridge, LinearRegression\n",
    "from sklearn.linear_model import Lasso\n",
    "from sklearn.metrics import r2_score\n",
    "from sklearn.metrics import mean_squared_error, mean_absolute_error\n",
    "from sklearn.model_selection import cross_val_score\n",
    "from sklearn.model_selection import train_test_split\n",
    "from sklearn.svm import SVR\n",
    "from sklearn.model_selection import GridSearchCV\n",
    "from sklearn.preprocessing import LabelEncoder"
   ]
  },
  {
   "cell_type": "markdown",
   "id": "cc870d63",
   "metadata": {},
   "source": [
    " # LOADING THE DATASET"
   ]
  },
  {
   "cell_type": "code",
   "execution_count": 5,
   "id": "39643838",
   "metadata": {},
   "outputs": [],
   "source": [
    "# train data\n",
    "train=pd.read_excel('flight_train.xlsx')\n"
   ]
  },
  {
   "cell_type": "code",
   "execution_count": 32,
   "id": "4b2f5e9b",
   "metadata": {},
   "outputs": [],
   "source": [
    "# test data\n",
    "test=pd.read_excel('flight_test.xlsx')\n"
   ]
  },
  {
   "cell_type": "code",
   "execution_count": 6,
   "id": "74a1f34c",
   "metadata": {},
   "outputs": [
    {
     "data": {
      "text/html": [
       "<div>\n",
       "<style scoped>\n",
       "    .dataframe tbody tr th:only-of-type {\n",
       "        vertical-align: middle;\n",
       "    }\n",
       "\n",
       "    .dataframe tbody tr th {\n",
       "        vertical-align: top;\n",
       "    }\n",
       "\n",
       "    .dataframe thead th {\n",
       "        text-align: right;\n",
       "    }\n",
       "</style>\n",
       "<table border=\"1\" class=\"dataframe\">\n",
       "  <thead>\n",
       "    <tr style=\"text-align: right;\">\n",
       "      <th></th>\n",
       "      <th>Airline</th>\n",
       "      <th>Date_of_Journey</th>\n",
       "      <th>Source</th>\n",
       "      <th>Destination</th>\n",
       "      <th>Route</th>\n",
       "      <th>Dep_Time</th>\n",
       "      <th>Arrival_Time</th>\n",
       "      <th>Duration</th>\n",
       "      <th>Total_Stops</th>\n",
       "      <th>Additional_Info</th>\n",
       "      <th>Price</th>\n",
       "    </tr>\n",
       "  </thead>\n",
       "  <tbody>\n",
       "    <tr>\n",
       "      <th>0</th>\n",
       "      <td>IndiGo</td>\n",
       "      <td>24/03/2019</td>\n",
       "      <td>Banglore</td>\n",
       "      <td>New Delhi</td>\n",
       "      <td>BLR → DEL</td>\n",
       "      <td>22:20</td>\n",
       "      <td>01:10 22 Mar</td>\n",
       "      <td>2h 50m</td>\n",
       "      <td>non-stop</td>\n",
       "      <td>No info</td>\n",
       "      <td>3897</td>\n",
       "    </tr>\n",
       "    <tr>\n",
       "      <th>1</th>\n",
       "      <td>Air India</td>\n",
       "      <td>1/05/2019</td>\n",
       "      <td>Kolkata</td>\n",
       "      <td>Banglore</td>\n",
       "      <td>CCU → IXR → BBI → BLR</td>\n",
       "      <td>05:50</td>\n",
       "      <td>13:15</td>\n",
       "      <td>7h 25m</td>\n",
       "      <td>2 stops</td>\n",
       "      <td>No info</td>\n",
       "      <td>7662</td>\n",
       "    </tr>\n",
       "    <tr>\n",
       "      <th>2</th>\n",
       "      <td>Jet Airways</td>\n",
       "      <td>9/06/2019</td>\n",
       "      <td>Delhi</td>\n",
       "      <td>Cochin</td>\n",
       "      <td>DEL → LKO → BOM → COK</td>\n",
       "      <td>09:25</td>\n",
       "      <td>04:25 10 Jun</td>\n",
       "      <td>19h</td>\n",
       "      <td>2 stops</td>\n",
       "      <td>No info</td>\n",
       "      <td>13882</td>\n",
       "    </tr>\n",
       "    <tr>\n",
       "      <th>3</th>\n",
       "      <td>IndiGo</td>\n",
       "      <td>12/05/2019</td>\n",
       "      <td>Kolkata</td>\n",
       "      <td>Banglore</td>\n",
       "      <td>CCU → NAG → BLR</td>\n",
       "      <td>18:05</td>\n",
       "      <td>23:30</td>\n",
       "      <td>5h 25m</td>\n",
       "      <td>1 stop</td>\n",
       "      <td>No info</td>\n",
       "      <td>6218</td>\n",
       "    </tr>\n",
       "    <tr>\n",
       "      <th>4</th>\n",
       "      <td>IndiGo</td>\n",
       "      <td>01/03/2019</td>\n",
       "      <td>Banglore</td>\n",
       "      <td>New Delhi</td>\n",
       "      <td>BLR → NAG → DEL</td>\n",
       "      <td>16:50</td>\n",
       "      <td>21:35</td>\n",
       "      <td>4h 45m</td>\n",
       "      <td>1 stop</td>\n",
       "      <td>No info</td>\n",
       "      <td>13302</td>\n",
       "    </tr>\n",
       "  </tbody>\n",
       "</table>\n",
       "</div>"
      ],
      "text/plain": [
       "       Airline Date_of_Journey    Source Destination                  Route  \\\n",
       "0       IndiGo      24/03/2019  Banglore   New Delhi              BLR → DEL   \n",
       "1    Air India       1/05/2019   Kolkata    Banglore  CCU → IXR → BBI → BLR   \n",
       "2  Jet Airways       9/06/2019     Delhi      Cochin  DEL → LKO → BOM → COK   \n",
       "3       IndiGo      12/05/2019   Kolkata    Banglore        CCU → NAG → BLR   \n",
       "4       IndiGo      01/03/2019  Banglore   New Delhi        BLR → NAG → DEL   \n",
       "\n",
       "  Dep_Time  Arrival_Time Duration Total_Stops Additional_Info  Price  \n",
       "0    22:20  01:10 22 Mar   2h 50m    non-stop         No info   3897  \n",
       "1    05:50         13:15   7h 25m     2 stops         No info   7662  \n",
       "2    09:25  04:25 10 Jun      19h     2 stops         No info  13882  \n",
       "3    18:05         23:30   5h 25m      1 stop         No info   6218  \n",
       "4    16:50         21:35   4h 45m      1 stop         No info  13302  "
      ]
     },
     "execution_count": 6,
     "metadata": {},
     "output_type": "execute_result"
    }
   ],
   "source": [
    "train.head()"
   ]
  },
  {
   "cell_type": "code",
   "execution_count": 7,
   "id": "4a32d0c1",
   "metadata": {},
   "outputs": [
    {
     "data": {
      "text/plain": [
       "(10683, 11)"
      ]
     },
     "execution_count": 7,
     "metadata": {},
     "output_type": "execute_result"
    }
   ],
   "source": [
    "train.shape"
   ]
  },
  {
   "cell_type": "markdown",
   "id": "4cab0458",
   "metadata": {},
   "source": [
    "10683 rows and 11 columns."
   ]
  },
  {
   "cell_type": "markdown",
   "id": "5644a118",
   "metadata": {},
   "source": [
    "# CHECKING NULL VALUES"
   ]
  },
  {
   "cell_type": "code",
   "execution_count": 8,
   "id": "cc1ec9fd",
   "metadata": {},
   "outputs": [
    {
     "data": {
      "text/plain": [
       "Airline            0\n",
       "Date_of_Journey    0\n",
       "Source             0\n",
       "Destination        0\n",
       "Route              1\n",
       "Dep_Time           0\n",
       "Arrival_Time       0\n",
       "Duration           0\n",
       "Total_Stops        1\n",
       "Additional_Info    0\n",
       "Price              0\n",
       "dtype: int64"
      ]
     },
     "execution_count": 8,
     "metadata": {},
     "output_type": "execute_result"
    }
   ],
   "source": [
    "train.isnull().sum()"
   ]
  },
  {
   "cell_type": "markdown",
   "id": "ea4de462",
   "metadata": {},
   "source": [
    "we have 1 missing values in Route column and Total Stops column."
   ]
  },
  {
   "cell_type": "markdown",
   "id": "17a76377",
   "metadata": {},
   "source": [
    "# CHECKING DATATYPES "
   ]
  },
  {
   "cell_type": "code",
   "execution_count": 9,
   "id": "702fbae0",
   "metadata": {},
   "outputs": [
    {
     "data": {
      "text/plain": [
       "Airline            object\n",
       "Date_of_Journey    object\n",
       "Source             object\n",
       "Destination        object\n",
       "Route              object\n",
       "Dep_Time           object\n",
       "Arrival_Time       object\n",
       "Duration           object\n",
       "Total_Stops        object\n",
       "Additional_Info    object\n",
       "Price               int64\n",
       "dtype: object"
      ]
     },
     "execution_count": 9,
     "metadata": {},
     "output_type": "execute_result"
    }
   ],
   "source": [
    "train.dtypes"
   ]
  },
  {
   "cell_type": "markdown",
   "id": "4e62923f",
   "metadata": {},
   "source": [
    "1 integer type column and remaining all is object data type column."
   ]
  },
  {
   "cell_type": "code",
   "execution_count": null,
   "id": "3ac13ab2",
   "metadata": {},
   "outputs": [],
   "source": []
  },
  {
   "cell_type": "markdown",
   "id": "8ce69dca",
   "metadata": {},
   "source": [
    "# VISUALIZATION OF DATAFRAME"
   ]
  },
  {
   "cell_type": "code",
   "execution_count": 11,
   "id": "5a482d55",
   "metadata": {},
   "outputs": [
    {
     "name": "stdout",
     "output_type": "stream",
     "text": [
      "Jet Airways                          3849\n",
      "IndiGo                               2053\n",
      "Air India                            1752\n",
      "Multiple carriers                    1196\n",
      "SpiceJet                              818\n",
      "Vistara                               479\n",
      "Air Asia                              319\n",
      "GoAir                                 194\n",
      "Multiple carriers Premium economy      13\n",
      "Jet Airways Business                    6\n",
      "Vistara Premium economy                 3\n",
      "Trujet                                  1\n",
      "Name: Airline, dtype: int64\n"
     ]
    },
    {
     "data": {
      "image/png": "[encoded data removed]",
      "text/plain": [
       "<Figure size 432x288 with 1 Axes>"
      ]
     },
     "metadata": {
      "needs_background": "light"
     },
     "output_type": "display_data"
    }
   ],
   "source": [
    "ax=sns.countplot(x='Airline',data=train)\n",
    "print(train['Airline'].value_counts())\n",
    "ax.set_xticklabels(ax.get_xticklabels(),rotation=40, ha='right')\n",
    "plt.tight_layout()"
   ]
  },
  {
   "cell_type": "markdown",
   "id": "a0b9c865",
   "metadata": {},
   "source": [
    "Jet airways has maximum number that is 3849."
   ]
  },
  {
   "cell_type": "code",
   "execution_count": null,
   "id": "16e98266",
   "metadata": {},
   "outputs": [],
   "source": []
  },
  {
   "cell_type": "code",
   "execution_count": 14,
   "id": "732793ba",
   "metadata": {},
   "outputs": [
    {
     "name": "stdout",
     "output_type": "stream",
     "text": [
      "Delhi       4537\n",
      "Kolkata     2871\n",
      "Banglore    2197\n",
      "Mumbai       697\n",
      "Chennai      381\n",
      "Name: Source, dtype: int64\n"
     ]
    },
    {
     "data": {
      "image/png": "[encoded data removed]",
      "text/plain": [
       "<Figure size 432x288 with 1 Axes>"
      ]
     },
     "metadata": {
      "needs_background": "light"
     },
     "output_type": "display_data"
    }
   ],
   "source": [
    "ax=sns.countplot(x='Source',data=train)\n",
    "print(train['Source'].value_counts())\n",
    "ax.set_xticklabels(ax.get_xticklabels(),rotation=40, ha='right')\n",
    "plt.tight_layout()"
   ]
  },
  {
   "cell_type": "markdown",
   "id": "60ed39e2",
   "metadata": {},
   "source": [
    "delhi is indiacting maximum numbers."
   ]
  },
  {
   "cell_type": "code",
   "execution_count": null,
   "id": "91577fcd",
   "metadata": {},
   "outputs": [],
   "source": []
  },
  {
   "cell_type": "code",
   "execution_count": 16,
   "id": "98e46a9b",
   "metadata": {},
   "outputs": [
    {
     "name": "stdout",
     "output_type": "stream",
     "text": [
      "Cochin       4537\n",
      "Banglore     2871\n",
      "Delhi        1265\n",
      "New Delhi     932\n",
      "Hyderabad     697\n",
      "Kolkata       381\n",
      "Name: Destination, dtype: int64\n"
     ]
    },
    {
     "data": {
      "image/png": "[encoded data removed]",
      "text/plain": [
       "<Figure size 432x288 with 1 Axes>"
      ]
     },
     "metadata": {
      "needs_background": "light"
     },
     "output_type": "display_data"
    }
   ],
   "source": [
    "ax=sns.countplot(x='Destination',data=train)\n",
    "print(train['Destination'].value_counts())\n",
    "ax.set_xticklabels(ax.get_xticklabels(),rotation=40, ha='right')\n",
    "plt.tight_layout()"
   ]
  },
  {
   "cell_type": "markdown",
   "id": "d1cc1aa4",
   "metadata": {},
   "source": [
    "Cochin is showing maximum numbers."
   ]
  },
  {
   "cell_type": "code",
   "execution_count": null,
   "id": "3b0b4f88",
   "metadata": {},
   "outputs": [],
   "source": [
    "\n"
   ]
  },
  {
   "cell_type": "code",
   "execution_count": 18,
   "id": "07bc5550",
   "metadata": {},
   "outputs": [
    {
     "name": "stdout",
     "output_type": "stream",
     "text": [
      "1 stop      5625\n",
      "non-stop    3491\n",
      "2 stops     1520\n",
      "3 stops       45\n",
      "4 stops        1\n",
      "Name: Total_Stops, dtype: int64\n"
     ]
    },
    {
     "data": {
      "image/png": "[encoded data removed]",
      "text/plain": [
       "<Figure size 432x288 with 1 Axes>"
      ]
     },
     "metadata": {
      "needs_background": "light"
     },
     "output_type": "display_data"
    }
   ],
   "source": [
    "ax=sns.countplot(x='Total_Stops',data=train)\n",
    "print(train['Total_Stops'].value_counts())\n",
    "ax.set_xticklabels(ax.get_xticklabels(),rotation=40, ha='right')\n",
    "plt.tight_layout()"
   ]
  },
  {
   "cell_type": "markdown",
   "id": "fb9b7e8e",
   "metadata": {},
   "source": [
    "Flights having 1 stop is maximum 5625."
   ]
  },
  {
   "cell_type": "code",
   "execution_count": null,
   "id": "2206f9bf",
   "metadata": {},
   "outputs": [],
   "source": []
  },
  {
   "cell_type": "code",
   "execution_count": 22,
   "id": "0b24e8a6",
   "metadata": {},
   "outputs": [
    {
     "data": {
      "text/plain": [
       "<AxesSubplot:xlabel='Price', ylabel='Density'>"
      ]
     },
     "execution_count": 22,
     "metadata": {},
     "output_type": "execute_result"
    },
    {
     "data": {
      "image/png": "[encoded data removed]",
      "text/plain": [
       "<Figure size 432x288 with 1 Axes>"
      ]
     },
     "metadata": {
      "needs_background": "light"
     },
     "output_type": "display_data"
    }
   ],
   "source": [
    "sns.distplot(train['Price'])"
   ]
  },
  {
   "cell_type": "markdown",
   "id": "0ad6e2af",
   "metadata": {},
   "source": [
    "Price is the target column looking left skewed."
   ]
  },
  {
   "cell_type": "markdown",
   "id": "efab86b0",
   "metadata": {},
   "source": [
    "# DROPPING UNNECESARY COLUMN"
   ]
  },
  {
   "cell_type": "code",
   "execution_count": 24,
   "id": "18756229",
   "metadata": {},
   "outputs": [],
   "source": [
    "del train['Route']"
   ]
  },
  {
   "cell_type": "code",
   "execution_count": 25,
   "id": "7e7c5bdd",
   "metadata": {},
   "outputs": [],
   "source": [
    "del train['Additional_Info']"
   ]
  },
  {
   "cell_type": "code",
   "execution_count": 26,
   "id": "1e779899",
   "metadata": {},
   "outputs": [
    {
     "data": {
      "text/plain": [
       "(10683, 9)"
      ]
     },
     "execution_count": 26,
     "metadata": {},
     "output_type": "execute_result"
    }
   ],
   "source": [
    "train.shape"
   ]
  },
  {
   "cell_type": "markdown",
   "id": "6fc11455",
   "metadata": {},
   "source": [
    "after deleting of 2 columns ,9 columns is remaining."
   ]
  },
  {
   "cell_type": "markdown",
   "id": "fc52af6c",
   "metadata": {},
   "source": [
    "# CONVERTING OBJECT COLUMN INTO NUMERIC COLUMN"
   ]
  },
  {
   "cell_type": "code",
   "execution_count": 27,
   "id": "de97253f",
   "metadata": {},
   "outputs": [],
   "source": [
    "from sklearn.preprocessing import LabelEncoder\n",
    "enc=LabelEncoder()\n",
    "for i in train.columns:    \n",
    "        if train[i].dtypes=='object':\n",
    "            train[i]=enc.fit_transform(train[i])\n",
    "            "
   ]
  },
  {
   "cell_type": "markdown",
   "id": "8f84e39d",
   "metadata": {},
   "source": [
    "# STATISTICAL SUMMARY."
   ]
  },
  {
   "cell_type": "code",
   "execution_count": 29,
   "id": "dc03ef62",
   "metadata": {},
   "outputs": [
    {
     "data": {
      "text/html": [
       "<div>\n",
       "<style scoped>\n",
       "    .dataframe tbody tr th:only-of-type {\n",
       "        vertical-align: middle;\n",
       "    }\n",
       "\n",
       "    .dataframe tbody tr th {\n",
       "        vertical-align: top;\n",
       "    }\n",
       "\n",
       "    .dataframe thead th {\n",
       "        text-align: right;\n",
       "    }\n",
       "</style>\n",
       "<table border=\"1\" class=\"dataframe\">\n",
       "  <thead>\n",
       "    <tr style=\"text-align: right;\">\n",
       "      <th></th>\n",
       "      <th>Airline</th>\n",
       "      <th>Date_of_Journey</th>\n",
       "      <th>Source</th>\n",
       "      <th>Destination</th>\n",
       "      <th>Dep_Time</th>\n",
       "      <th>Arrival_Time</th>\n",
       "      <th>Duration</th>\n",
       "      <th>Total_Stops</th>\n",
       "      <th>Price</th>\n",
       "    </tr>\n",
       "  </thead>\n",
       "  <tbody>\n",
       "    <tr>\n",
       "      <th>count</th>\n",
       "      <td>10683.000000</td>\n",
       "      <td>10683.000000</td>\n",
       "      <td>10683.000000</td>\n",
       "      <td>10683.000000</td>\n",
       "      <td>10683.000000</td>\n",
       "      <td>10683.000000</td>\n",
       "      <td>10683.000000</td>\n",
       "      <td>10683.000000</td>\n",
       "      <td>10683.000000</td>\n",
       "    </tr>\n",
       "    <tr>\n",
       "      <th>mean</th>\n",
       "      <td>3.965927</td>\n",
       "      <td>23.735093</td>\n",
       "      <td>1.952261</td>\n",
       "      <td>1.436113</td>\n",
       "      <td>107.980717</td>\n",
       "      <td>869.828419</td>\n",
       "      <td>194.069269</td>\n",
       "      <td>1.458579</td>\n",
       "      <td>9087.064121</td>\n",
       "    </tr>\n",
       "    <tr>\n",
       "      <th>std</th>\n",
       "      <td>2.352155</td>\n",
       "      <td>12.337763</td>\n",
       "      <td>1.177221</td>\n",
       "      <td>1.474782</td>\n",
       "      <td>61.085563</td>\n",
       "      <td>331.509504</td>\n",
       "      <td>108.620556</td>\n",
       "      <td>1.806560</td>\n",
       "      <td>4611.359167</td>\n",
       "    </tr>\n",
       "    <tr>\n",
       "      <th>min</th>\n",
       "      <td>0.000000</td>\n",
       "      <td>0.000000</td>\n",
       "      <td>0.000000</td>\n",
       "      <td>0.000000</td>\n",
       "      <td>0.000000</td>\n",
       "      <td>0.000000</td>\n",
       "      <td>0.000000</td>\n",
       "      <td>0.000000</td>\n",
       "      <td>1759.000000</td>\n",
       "    </tr>\n",
       "    <tr>\n",
       "      <th>25%</th>\n",
       "      <td>3.000000</td>\n",
       "      <td>14.000000</td>\n",
       "      <td>2.000000</td>\n",
       "      <td>0.000000</td>\n",
       "      <td>55.000000</td>\n",
       "      <td>603.000000</td>\n",
       "      <td>106.000000</td>\n",
       "      <td>0.000000</td>\n",
       "      <td>5277.000000</td>\n",
       "    </tr>\n",
       "    <tr>\n",
       "      <th>50%</th>\n",
       "      <td>4.000000</td>\n",
       "      <td>24.000000</td>\n",
       "      <td>2.000000</td>\n",
       "      <td>1.000000</td>\n",
       "      <td>96.000000</td>\n",
       "      <td>937.000000</td>\n",
       "      <td>233.000000</td>\n",
       "      <td>0.000000</td>\n",
       "      <td>8372.000000</td>\n",
       "    </tr>\n",
       "    <tr>\n",
       "      <th>75%</th>\n",
       "      <td>4.000000</td>\n",
       "      <td>35.000000</td>\n",
       "      <td>3.000000</td>\n",
       "      <td>2.000000</td>\n",
       "      <td>164.000000</td>\n",
       "      <td>1141.000000</td>\n",
       "      <td>280.000000</td>\n",
       "      <td>4.000000</td>\n",
       "      <td>12373.000000</td>\n",
       "    </tr>\n",
       "    <tr>\n",
       "      <th>max</th>\n",
       "      <td>11.000000</td>\n",
       "      <td>43.000000</td>\n",
       "      <td>4.000000</td>\n",
       "      <td>5.000000</td>\n",
       "      <td>221.000000</td>\n",
       "      <td>1342.000000</td>\n",
       "      <td>367.000000</td>\n",
       "      <td>5.000000</td>\n",
       "      <td>79512.000000</td>\n",
       "    </tr>\n",
       "  </tbody>\n",
       "</table>\n",
       "</div>"
      ],
      "text/plain": [
       "            Airline  Date_of_Journey        Source   Destination  \\\n",
       "count  10683.000000     10683.000000  10683.000000  10683.000000   \n",
       "mean       3.965927        23.735093      1.952261      1.436113   \n",
       "std        2.352155        12.337763      1.177221      1.474782   \n",
       "min        0.000000         0.000000      0.000000      0.000000   \n",
       "25%        3.000000        14.000000      2.000000      0.000000   \n",
       "50%        4.000000        24.000000      2.000000      1.000000   \n",
       "75%        4.000000        35.000000      3.000000      2.000000   \n",
       "max       11.000000        43.000000      4.000000      5.000000   \n",
       "\n",
       "           Dep_Time  Arrival_Time      Duration   Total_Stops         Price  \n",
       "count  10683.000000  10683.000000  10683.000000  10683.000000  10683.000000  \n",
       "mean     107.980717    869.828419    194.069269      1.458579   9087.064121  \n",
       "std       61.085563    331.509504    108.620556      1.806560   4611.359167  \n",
       "min        0.000000      0.000000      0.000000      0.000000   1759.000000  \n",
       "25%       55.000000    603.000000    106.000000      0.000000   5277.000000  \n",
       "50%       96.000000    937.000000    233.000000      0.000000   8372.000000  \n",
       "75%      164.000000   1141.000000    280.000000      4.000000  12373.000000  \n",
       "max      221.000000   1342.000000    367.000000      5.000000  79512.000000  "
      ]
     },
     "execution_count": 29,
     "metadata": {},
     "output_type": "execute_result"
    }
   ],
   "source": [
    "train.describe()"
   ]
  },
  {
   "cell_type": "markdown",
   "id": "aedc1ff3",
   "metadata": {},
   "source": [
    "count is same for all the columns.\n",
    "\n",
    "Mean and median(50%) is almost equall in every columns.\n",
    "\n",
    "There is not much difference between 75% and max in any column"
   ]
  },
  {
   "cell_type": "markdown",
   "id": "5746dc39",
   "metadata": {},
   "source": [
    "# CORRELTION MATRIX"
   ]
  },
  {
   "cell_type": "code",
   "execution_count": 31,
   "id": "51bd70ef",
   "metadata": {},
   "outputs": [
    {
     "data": {
      "text/plain": [
       "<AxesSubplot:>"
      ]
     },
     "execution_count": 31,
     "metadata": {},
     "output_type": "execute_result"
    },
    {
     "data": {
      "image/png": "[encoded data removed]",
      "text/plain": [
       "<Figure size 432x288 with 2 Axes>"
      ]
     },
     "metadata": {
      "needs_background": "light"
     },
     "output_type": "display_data"
    }
   ],
   "source": [
    "sns.heatmap(train.corr(),annot=True,cmap='Accent')"
   ]
  },
  {
   "cell_type": "markdown",
   "id": "304e30ee",
   "metadata": {},
   "source": [
    "Total_Stops is showing positive correlation with price column.\n",
    "\n",
    "Arrival_hour is negatively correlated with Arrival_min.\n",
    "\n",
    "Arrival_min is negatively correlated with Total_STops.\n",
    "\n",
    "Journey_Day and Journey_month is showing negative correlation with price column"
   ]
  },
  {
   "cell_type": "markdown",
   "id": "1b814956",
   "metadata": {},
   "source": [
    "# SEPRATING THE COLUMNS INTO X AND Y"
   ]
  },
  {
   "cell_type": "code",
   "execution_count": 34,
   "id": "e2727d73",
   "metadata": {},
   "outputs": [],
   "source": [
    "x=train.drop('Price', axis=1)\n",
    "y=train['Price']"
   ]
  },
  {
   "cell_type": "markdown",
   "id": "9644292b",
   "metadata": {},
   "source": [
    "# STANDARD SCALING"
   ]
  },
  {
   "cell_type": "code",
   "execution_count": 35,
   "id": "1c1708b9",
   "metadata": {},
   "outputs": [],
   "source": [
    "from sklearn.preprocessing import StandardScaler\n",
    "sc=StandardScaler()\n",
    "\n",
    "x=sc.fit_transform(train)\n",
    "\n",
    "x=pd.DataFrame(x,columns=train.columns)"
   ]
  },
  {
   "cell_type": "code",
   "execution_count": null,
   "id": "ed7b1480",
   "metadata": {},
   "outputs": [],
   "source": []
  },
  {
   "cell_type": "markdown",
   "id": "b3fdd188",
   "metadata": {},
   "source": [
    "# TEST DATA"
   ]
  },
  {
   "cell_type": "code",
   "execution_count": 37,
   "id": "a2371059",
   "metadata": {},
   "outputs": [
    {
     "data": {
      "text/plain": [
       "(2671, 10)"
      ]
     },
     "execution_count": 37,
     "metadata": {},
     "output_type": "execute_result"
    }
   ],
   "source": [
    "test.shape"
   ]
  },
  {
   "cell_type": "markdown",
   "id": "3426f22f",
   "metadata": {},
   "source": [
    "2671 rows and 10 columns."
   ]
  },
  {
   "cell_type": "code",
   "execution_count": 38,
   "id": "5cdd16bb",
   "metadata": {},
   "outputs": [],
   "source": [
    "# dropping unnnecessary column from the test data\n",
    "del test['Route']\n",
    "del test['Additional_Info']"
   ]
  },
  {
   "cell_type": "markdown",
   "id": "f5065a8c",
   "metadata": {},
   "source": [
    "# TRAIN TEST SPLIT"
   ]
  },
  {
   "cell_type": "code",
   "execution_count": 40,
   "id": "ddf095fb",
   "metadata": {},
   "outputs": [
    {
     "name": "stdout",
     "output_type": "stream",
     "text": [
      "(8012, 9)\n",
      "(2671, 9)\n",
      "(8012,)\n",
      "(2671,)\n"
     ]
    }
   ],
   "source": [
    "\n",
    "x_train, x_test, y_train, y_test= train_test_split(x,y,test_size=.25, random_state=48)\n",
    "print(x_train.shape)\n",
    "print(x_test.shape)\n",
    "print(y_train.shape)\n",
    "print(y_test.shape)"
   ]
  },
  {
   "cell_type": "markdown",
   "id": "fb45c4bb",
   "metadata": {},
   "source": [
    "# MODEL BUILDING"
   ]
  },
  {
   "cell_type": "code",
   "execution_count": 43,
   "id": "2b38c68f",
   "metadata": {},
   "outputs": [
    {
     "name": "stdout",
     "output_type": "stream",
     "text": [
      "r2 score 1.0\n",
      "error\n",
      "mean absolute error 3.346504653322478e-12\n",
      "mean squared error 1.957980795509271e-23\n",
      "root mean squared error 4.42490767757845e-12\n"
     ]
    }
   ],
   "source": [
    "\n",
    "\n",
    "\n",
    "#for Linear Regression\n",
    "\n",
    "lr=LinearRegression()\n",
    "lr.fit(x_train,y_train)\n",
    "pred_y=lr.predict(x_test)\n",
    "print('r2 score',r2_score(y_test,pred_y))\n",
    "\n",
    "print('error')\n",
    "print('mean absolute error', mean_absolute_error(y_test,pred_y))\n",
    "print('mean squared error', mean_squared_error(y_test,pred_y))\n",
    "\n",
    "print('root mean squared error', np.sqrt(mean_squared_error(y_test,pred_y)))"
   ]
  },
  {
   "cell_type": "code",
   "execution_count": 44,
   "id": "aa989f90",
   "metadata": {},
   "outputs": [
    {
     "name": "stdout",
     "output_type": "stream",
     "text": [
      "cross validation score 1.0\n"
     ]
    }
   ],
   "source": [
    "# Cross validation Linear Regression\n",
    "scr=cross_val_score(lr,x,y,cv=5)\n",
    "print('cross validation score',scr.mean())"
   ]
  },
  {
   "cell_type": "code",
   "execution_count": null,
   "id": "0db651e3",
   "metadata": {},
   "outputs": [],
   "source": []
  },
  {
   "cell_type": "code",
   "execution_count": null,
   "id": "e86db672",
   "metadata": {},
   "outputs": [],
   "source": []
  },
  {
   "cell_type": "code",
   "execution_count": 45,
   "id": "dadded4a",
   "metadata": {},
   "outputs": [
    {
     "name": "stdout",
     "output_type": "stream",
     "text": [
      "r2 score 0.9999999728765645\n",
      "error\n",
      "mean absolute error 0.5428626462308705\n",
      "mean squared error 0.6408200672442023\n",
      "root mean squared error 0.8005123779456519\n"
     ]
    }
   ],
   "source": [
    "\n",
    "\n",
    "#For Ridge\n",
    "\n",
    "rd=Ridge()\n",
    "\n",
    "rd.fit(x_train,y_train)\n",
    "pred_y=rd.predict(x_test)\n",
    "print('r2 score',r2_score(y_test,pred_y))\n",
    "\n",
    "print('error')\n",
    "print('mean absolute error', mean_absolute_error(y_test,pred_y))\n",
    "print('mean squared error', mean_squared_error(y_test,pred_y))\n",
    "\n",
    "print('root mean squared error', np.sqrt(mean_squared_error(y_test,pred_y)))\n",
    "\n"
   ]
  },
  {
   "cell_type": "code",
   "execution_count": 46,
   "id": "7f85c336",
   "metadata": {},
   "outputs": [
    {
     "name": "stdout",
     "output_type": "stream",
     "text": [
      "cv score 0.9999999832948558\n"
     ]
    }
   ],
   "source": [
    "# For Ridge (cross  validation)\n",
    "\n",
    "\n",
    "score=cross_val_score(rd,x,y,cv=10)\n",
    "print('cv score',np.mean(score))"
   ]
  },
  {
   "cell_type": "code",
   "execution_count": null,
   "id": "0759280f",
   "metadata": {},
   "outputs": [],
   "source": []
  },
  {
   "cell_type": "code",
   "execution_count": null,
   "id": "a3998a42",
   "metadata": {},
   "outputs": [],
   "source": []
  },
  {
   "cell_type": "code",
   "execution_count": 47,
   "id": "78981f0a",
   "metadata": {},
   "outputs": [
    {
     "name": "stdout",
     "output_type": "stream",
     "text": [
      "r2 score 0.9999999492483039\n",
      "error\n",
      "mean absolute error 0.8317941335141374\n",
      "mean squared error 1.199062899576766\n",
      "root mean squared error 1.0950173056060648\n"
     ]
    }
   ],
   "source": [
    "# for Lasso\n",
    "\n",
    "ls=Lasso()\n",
    "\n",
    "ls.fit(x_train,y_train)\n",
    "pred_y=ls.predict(x_test)\n",
    "print('r2 score',r2_score(y_test,pred_y))\n",
    "\n",
    "print('error')\n",
    "print('mean absolute error', mean_absolute_error(y_test,pred_y))\n",
    "print('mean squared error', mean_squared_error(y_test,pred_y))\n",
    "\n",
    "print('root mean squared error', np.sqrt(mean_squared_error(y_test,pred_y)))\n"
   ]
  },
  {
   "cell_type": "code",
   "execution_count": 48,
   "id": "c828a9a8",
   "metadata": {},
   "outputs": [
    {
     "name": "stdout",
     "output_type": "stream",
     "text": [
      "cv score 0.999999952897116\n"
     ]
    }
   ],
   "source": [
    "# For Lasso (cross validation)\n",
    "\n",
    "\n",
    "score=cross_val_score(ls,x,y,cv=10)\n",
    "print('cv score',np.mean(score))"
   ]
  },
  {
   "cell_type": "code",
   "execution_count": null,
   "id": "3da284ba",
   "metadata": {},
   "outputs": [],
   "source": []
  },
  {
   "cell_type": "code",
   "execution_count": null,
   "id": "84bbfc3c",
   "metadata": {},
   "outputs": [],
   "source": []
  },
  {
   "cell_type": "code",
   "execution_count": 49,
   "id": "f283082d",
   "metadata": {},
   "outputs": [
    {
     "name": "stdout",
     "output_type": "stream",
     "text": [
      "r2 score 0.8825107167704286\n",
      "error\n",
      "mean absolute error 1167.6200643936852\n",
      "mean squared error 2775809.5118184756\n",
      "root mean squared error 1666.0760822418872\n"
     ]
    }
   ],
   "source": [
    "\n",
    "#For ElasticNet\n",
    "\n",
    "\n",
    "\n",
    "en=ElasticNet()\n",
    "\n",
    "en.fit(x_train,y_train)\n",
    "pred_y=en.predict(x_test)\n",
    "print('r2 score',r2_score(y_test,pred_y))\n",
    "\n",
    "print('error')\n",
    "print('mean absolute error', mean_absolute_error(y_test,pred_y))\n",
    "print('mean squared error', mean_squared_error(y_test,pred_y))\n",
    "\n",
    "print('root mean squared error', np.sqrt(mean_squared_error(y_test,pred_y)))\n"
   ]
  },
  {
   "cell_type": "code",
   "execution_count": 50,
   "id": "31c2b9d9",
   "metadata": {},
   "outputs": [
    {
     "name": "stdout",
     "output_type": "stream",
     "text": [
      "cv score 0.8928788018424904\n"
     ]
    }
   ],
   "source": [
    "\n",
    "\n",
    "#For ElasticNet (cross validation)\n",
    "\n",
    "score=cross_val_score(en,x,y,cv=10)\n",
    "print('cv score',np.mean(score))"
   ]
  },
  {
   "cell_type": "code",
   "execution_count": null,
   "id": "fdfed27e",
   "metadata": {},
   "outputs": [],
   "source": []
  },
  {
   "cell_type": "markdown",
   "id": "4e13fe81",
   "metadata": {},
   "source": [
    "Our every model is predicting well , we are getting 100% r2 score in Linear Regression and 99% r2 score in ridge."
   ]
  },
  {
   "cell_type": "code",
   "execution_count": null,
   "id": "aff5e1d8",
   "metadata": {},
   "outputs": [],
   "source": []
  },
  {
   "cell_type": "markdown",
   "id": "043556dc",
   "metadata": {},
   "source": [
    "# ENSEMBLE TECHNIQUE"
   ]
  },
  {
   "cell_type": "code",
   "execution_count": 51,
   "id": "e3aaed3e",
   "metadata": {},
   "outputs": [
    {
     "name": "stdout",
     "output_type": "stream",
     "text": [
      "{'criterion': 'mse', 'max_features': 'auto'}\n"
     ]
    }
   ],
   "source": [
    "\n",
    "parameters={'criterion':['mse','mae'],'max_features':['auto','sqrt','log2']}\n",
    "\n",
    "rf=RandomForestRegressor()\n",
    "clf=GridSearchCV(rf,parameters)\n",
    "clf.fit(x_train,y_train)\n",
    "\n",
    "print(clf.best_params_)"
   ]
  },
  {
   "cell_type": "code",
   "execution_count": 52,
   "id": "f39f37a8",
   "metadata": {},
   "outputs": [
    {
     "name": "stdout",
     "output_type": "stream",
     "text": [
      "r2 score: 99.20503744659305\n",
      "cross val score 99.75347424473371\n"
     ]
    }
   ],
   "source": [
    "rf=RandomForestRegressor(criterion='mse',max_features='auto')\n",
    "rf.fit(x_train,y_train)\n",
    "rf.score(x_train,y_train)\n",
    "pred_decision=rf.predict(x_test)\n",
    "\n",
    "rfs=r2_score(y_test,pred_decision)\n",
    "print('r2 score:', rfs*100)\n",
    "\n",
    "rfscore=cross_val_score(rf,x,y,cv=5)\n",
    "rfc=rfscore.mean()\n",
    "print('cross val score',rfc*100)"
   ]
  },
  {
   "cell_type": "markdown",
   "id": "6f46db9f",
   "metadata": {},
   "source": [
    "# SAVING"
   ]
  },
  {
   "cell_type": "code",
   "execution_count": 53,
   "id": "ebd29d06",
   "metadata": {},
   "outputs": [],
   "source": [
    "import pickle\n",
    "filename='flight_fares.pkl'\n",
    "pickle.dump(rf, open(filename,'wb'))"
   ]
  },
  {
   "cell_type": "code",
   "execution_count": 55,
   "id": "066a739a",
   "metadata": {},
   "outputs": [
    {
     "name": "stdout",
     "output_type": "stream",
     "text": [
      "0.9920503744659306\n"
     ]
    }
   ],
   "source": [
    "loaded_model=pickle.load(open('flight_fares.pkl','rb'))\n",
    "result=loaded_model.score(x_test, y_test)\n",
    "print(result)"
   ]
  },
  {
   "cell_type": "code",
   "execution_count": 57,
   "id": "2534b7bf",
   "metadata": {},
   "outputs": [
    {
     "data": {
      "text/html": [
       "<div>\n",
       "<style scoped>\n",
       "    .dataframe tbody tr th:only-of-type {\n",
       "        vertical-align: middle;\n",
       "    }\n",
       "\n",
       "    .dataframe tbody tr th {\n",
       "        vertical-align: top;\n",
       "    }\n",
       "\n",
       "    .dataframe thead th {\n",
       "        text-align: right;\n",
       "    }\n",
       "</style>\n",
       "<table border=\"1\" class=\"dataframe\">\n",
       "  <thead>\n",
       "    <tr style=\"text-align: right;\">\n",
       "      <th></th>\n",
       "      <th>0</th>\n",
       "      <th>1</th>\n",
       "      <th>2</th>\n",
       "      <th>3</th>\n",
       "      <th>4</th>\n",
       "      <th>5</th>\n",
       "      <th>6</th>\n",
       "      <th>7</th>\n",
       "      <th>8</th>\n",
       "      <th>9</th>\n",
       "      <th>...</th>\n",
       "      <th>2661</th>\n",
       "      <th>2662</th>\n",
       "      <th>2663</th>\n",
       "      <th>2664</th>\n",
       "      <th>2665</th>\n",
       "      <th>2666</th>\n",
       "      <th>2667</th>\n",
       "      <th>2668</th>\n",
       "      <th>2669</th>\n",
       "      <th>2670</th>\n",
       "    </tr>\n",
       "  </thead>\n",
       "  <tbody>\n",
       "    <tr>\n",
       "      <th>predicted</th>\n",
       "      <td>4174.0</td>\n",
       "      <td>25690.05</td>\n",
       "      <td>7297.88</td>\n",
       "      <td>12898.0</td>\n",
       "      <td>6068.76</td>\n",
       "      <td>7647.98</td>\n",
       "      <td>13081.68</td>\n",
       "      <td>12819.0</td>\n",
       "      <td>11019.17</td>\n",
       "      <td>14151.0</td>\n",
       "      <td>...</td>\n",
       "      <td>6810.77</td>\n",
       "      <td>6961.0</td>\n",
       "      <td>14231.0</td>\n",
       "      <td>10972.87</td>\n",
       "      <td>15969.36</td>\n",
       "      <td>6985.54</td>\n",
       "      <td>7927.57</td>\n",
       "      <td>10918.88</td>\n",
       "      <td>7006.61</td>\n",
       "      <td>13029.0</td>\n",
       "    </tr>\n",
       "    <tr>\n",
       "      <th>original</th>\n",
       "      <td>4174.0</td>\n",
       "      <td>25690.05</td>\n",
       "      <td>7297.88</td>\n",
       "      <td>12898.0</td>\n",
       "      <td>6068.76</td>\n",
       "      <td>7647.98</td>\n",
       "      <td>13081.68</td>\n",
       "      <td>12819.0</td>\n",
       "      <td>11019.17</td>\n",
       "      <td>14151.0</td>\n",
       "      <td>...</td>\n",
       "      <td>6810.77</td>\n",
       "      <td>6961.0</td>\n",
       "      <td>14231.0</td>\n",
       "      <td>10972.87</td>\n",
       "      <td>15969.36</td>\n",
       "      <td>6985.54</td>\n",
       "      <td>7927.57</td>\n",
       "      <td>10918.88</td>\n",
       "      <td>7006.61</td>\n",
       "      <td>13029.0</td>\n",
       "    </tr>\n",
       "  </tbody>\n",
       "</table>\n",
       "<p>2 rows × 2671 columns</p>\n",
       "</div>"
      ],
      "text/plain": [
       "             0         1        2        3        4        5         6     \\\n",
       "predicted  4174.0  25690.05  7297.88  12898.0  6068.76  7647.98  13081.68   \n",
       "original   4174.0  25690.05  7297.88  12898.0  6068.76  7647.98  13081.68   \n",
       "\n",
       "              7         8        9     ...     2661    2662     2663  \\\n",
       "predicted  12819.0  11019.17  14151.0  ...  6810.77  6961.0  14231.0   \n",
       "original   12819.0  11019.17  14151.0  ...  6810.77  6961.0  14231.0   \n",
       "\n",
       "               2664      2665     2666     2667      2668     2669     2670  \n",
       "predicted  10972.87  15969.36  6985.54  7927.57  10918.88  7006.61  13029.0  \n",
       "original   10972.87  15969.36  6985.54  7927.57  10918.88  7006.61  13029.0  \n",
       "\n",
       "[2 rows x 2671 columns]"
      ]
     },
     "execution_count": 57,
     "metadata": {},
     "output_type": "execute_result"
    }
   ],
   "source": [
    "conclusion=pd.DataFrame([loaded_model.predict(x_test)[:],pred_decision[:]],index=['predicted','original'])\n",
    "conclusion\n",
    "                "
   ]
  },
  {
   "cell_type": "markdown",
   "id": "cb661d45",
   "metadata": {},
   "source": [
    "# PREDICTING ON TEST DATA"
   ]
  },
  {
   "cell_type": "code",
   "execution_count": 58,
   "id": "44ccf5d0",
   "metadata": {},
   "outputs": [],
   "source": [
    "y_prediction=ls.predict(x_test)"
   ]
  },
  {
   "cell_type": "code",
   "execution_count": 59,
   "id": "e86a6b88",
   "metadata": {},
   "outputs": [
    {
     "data": {
      "text/plain": [
       "0.9999999492483039"
      ]
     },
     "execution_count": 59,
     "metadata": {},
     "output_type": "execute_result"
    }
   ],
   "source": [
    "r2_score(y_test,y_prediction)"
   ]
  },
  {
   "cell_type": "code",
   "execution_count": 60,
   "id": "f6db964d",
   "metadata": {},
   "outputs": [],
   "source": [
    "result=pd.DataFrame()\n",
    "\n",
    "\n",
    "result[\"Fare\"]=y_prediction\n",
    "result=result.sort_index()\n",
    "result.to_csv('flight_fares.csv',index=True)"
   ]
  },
  {
   "cell_type": "code",
   "execution_count": 61,
   "id": "7d1555a4",
   "metadata": {},
   "outputs": [
    {
     "data": {
      "text/html": [
       "<div>\n",
       "<style scoped>\n",
       "    .dataframe tbody tr th:only-of-type {\n",
       "        vertical-align: middle;\n",
       "    }\n",
       "\n",
       "    .dataframe tbody tr th {\n",
       "        vertical-align: top;\n",
       "    }\n",
       "\n",
       "    .dataframe thead th {\n",
       "        text-align: right;\n",
       "    }\n",
       "</style>\n",
       "<table border=\"1\" class=\"dataframe\">\n",
       "  <thead>\n",
       "    <tr style=\"text-align: right;\">\n",
       "      <th></th>\n",
       "      <th>Unnamed: 0</th>\n",
       "      <th>Fare</th>\n",
       "    </tr>\n",
       "  </thead>\n",
       "  <tbody>\n",
       "    <tr>\n",
       "      <th>0</th>\n",
       "      <td>0</td>\n",
       "      <td>4175.101169</td>\n",
       "    </tr>\n",
       "    <tr>\n",
       "      <th>1</th>\n",
       "      <td>1</td>\n",
       "      <td>25731.244834</td>\n",
       "    </tr>\n",
       "    <tr>\n",
       "      <th>2</th>\n",
       "      <td>2</td>\n",
       "      <td>7298.397528</td>\n",
       "    </tr>\n",
       "    <tr>\n",
       "      <th>3</th>\n",
       "      <td>3</td>\n",
       "      <td>12897.136201</td>\n",
       "    </tr>\n",
       "    <tr>\n",
       "      <th>4</th>\n",
       "      <td>4</td>\n",
       "      <td>6069.674345</td>\n",
       "    </tr>\n",
       "    <tr>\n",
       "      <th>...</th>\n",
       "      <td>...</td>\n",
       "      <td>...</td>\n",
       "    </tr>\n",
       "    <tr>\n",
       "      <th>2666</th>\n",
       "      <td>2666</td>\n",
       "      <td>6985.468028</td>\n",
       "    </tr>\n",
       "    <tr>\n",
       "      <th>2667</th>\n",
       "      <td>2667</td>\n",
       "      <td>7927.255854</td>\n",
       "    </tr>\n",
       "    <tr>\n",
       "      <th>2668</th>\n",
       "      <td>2668</td>\n",
       "      <td>10918.581945</td>\n",
       "    </tr>\n",
       "    <tr>\n",
       "      <th>2669</th>\n",
       "      <td>2669</td>\n",
       "      <td>7013.461721</td>\n",
       "    </tr>\n",
       "    <tr>\n",
       "      <th>2670</th>\n",
       "      <td>2670</td>\n",
       "      <td>13028.106695</td>\n",
       "    </tr>\n",
       "  </tbody>\n",
       "</table>\n",
       "<p>2671 rows × 2 columns</p>\n",
       "</div>"
      ],
      "text/plain": [
       "      Unnamed: 0          Fare\n",
       "0              0   4175.101169\n",
       "1              1  25731.244834\n",
       "2              2   7298.397528\n",
       "3              3  12897.136201\n",
       "4              4   6069.674345\n",
       "...          ...           ...\n",
       "2666        2666   6985.468028\n",
       "2667        2667   7927.255854\n",
       "2668        2668  10918.581945\n",
       "2669        2669   7013.461721\n",
       "2670        2670  13028.106695\n",
       "\n",
       "[2671 rows x 2 columns]"
      ]
     },
     "execution_count": 61,
     "metadata": {},
     "output_type": "execute_result"
    }
   ],
   "source": [
    "# Now Loding the data\n",
    "ds=pd.read_csv('flight_fares.csv')\n",
    "ds"
   ]
  },
  {
   "cell_type": "code",
   "execution_count": null,
   "id": "8094d1ca",
   "metadata": {},
   "outputs": [],
   "source": []
  }
 ],
 "metadata": {
  "kernelspec": {
   "display_name": "Python 3",
   "language": "python",
   "name": "python3"
  },
  "language_info": {
   "codemirror_mode": {
    "name": "ipython",
    "version": 3
   },
   "file_extension": ".py",
   "mimetype": "text/x-python",
   "name": "python",
   "nbconvert_exporter": "python",
   "pygments_lexer": "ipython3",
   "version": "3.8.8"
  }
 },
 "nbformat": 4,
 "nbformat_minor": 5
}
